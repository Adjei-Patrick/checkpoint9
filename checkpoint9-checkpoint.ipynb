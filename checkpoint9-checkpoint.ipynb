{
 "cells": [
  {
   "cell_type": "code",
   "execution_count": 37,
   "id": "ad8f1614",
   "metadata": {},
   "outputs": [
    {
     "name": "stdout",
     "output_type": "stream",
     "text": [
      "vrai\n",
      "faux\n"
     ]
    }
   ],
   "source": [
    "A=[1,2,3,5,8]\n",
    "l=0; h=len(A)-1;\n",
    "def recherche_binaire(A, l, h, k):\n",
    "    if h >= l:\n",
    "        mid = int(l + (h - l)/2)\n",
    "        if A[mid] == k:\n",
    "            print('vrai')\n",
    "        elif A[mid] > k:\n",
    "            return recherche_binaire(A, l, mid-1, k)\n",
    "        else:\n",
    "            return recherche_binaire(A, mid+1, h, k)\n",
    "    else:\n",
    "        print('faux')\n",
    "\n",
    "for k in range(5,7):\n",
    "    recherche_binaire(A, l, h, k)\n"
   ]
  },
  {
   "cell_type": "code",
   "execution_count": 38,
   "id": "d5c5d68f",
   "metadata": {},
   "outputs": [
    {
     "name": "stdout",
     "output_type": "stream",
     "text": [
      "81\n"
     ]
    }
   ],
   "source": [
    "def puissance(a,b):\n",
    "    c = a**b\n",
    "    return c\n",
    "print(puissance(3,4))"
   ]
  },
  {
   "cell_type": "code",
   "execution_count": 43,
   "id": "50c0b87e",
   "metadata": {},
   "outputs": [
    {
     "data": {
      "text/plain": [
       "[13, 22, 29, 37, 46, 49, 52, 56, 71]"
      ]
     },
     "execution_count": 43,
     "metadata": {},
     "output_type": "execute_result"
    }
   ],
   "source": [
    "#trier avec tri de bulle\n",
    "def tri_bulle(my_list):\n",
    "    for patcko in range(len(my_list)-1,0,-1):\n",
    "        for i in range(patcko):\n",
    "            if my_list[i]>my_list[i+1]:\n",
    "                init = my_list[i]\n",
    "                my_list[i] = my_list[i+1]\n",
    "                my_list[i+1] = init\n",
    "    return my_list\n",
    "\n",
    "my_list = [29,13,22,37,52,49,46,71,56]\n",
    "tri_bulle(my_list)\n"
   ]
  },
  {
   "cell_type": "code",
   "execution_count": 45,
   "id": "c3acb61a",
   "metadata": {},
   "outputs": [
    {
     "name": "stdout",
     "output_type": "stream",
     "text": [
      "[13, 22, 29, 37, 46, 49, 52, 56, 71]\n"
     ]
    }
   ],
   "source": [
    "#trier avec tri par fusion\n",
    "def tri_fusion(myList):\n",
    "    if len(myList) > 1:\n",
    "        mid = len(myList) // 2\n",
    "        left = myList[:mid]\n",
    "        right = myList[mid:]\n",
    "\n",
    "        # division de chaque moitié\n",
    "        tri_fusion(left)\n",
    "        tri_fusion(right)\n",
    "\n",
    "        # deux itérateurs pour pacourir les deux moitiés\n",
    "        i = 0\n",
    "        j = 0\n",
    "        \n",
    "        # iterateur de la liste principale\n",
    "        k = 0\n",
    "        \n",
    "        while i < len(left) and j < len(right):\n",
    "            if left[i] < right[j]:\n",
    "              # utilisation de la valeur de la moitié gauche\n",
    "              myList[k] = left[i]\n",
    "              # deplacer l'iterateur\n",
    "              i += 1\n",
    "            else:\n",
    "                myList[k] = right[j]\n",
    "                j += 1\n",
    "            # deplacer pour l'inserer ensuite\n",
    "            k += 1\n",
    "\n",
    "        # pour toutes les valeurs restantes\n",
    "        while i < len(left):\n",
    "            myList[k] = left[i]\n",
    "            i += 1\n",
    "            k += 1\n",
    "\n",
    "        while j < len(right):\n",
    "            myList[k]=right[j]\n",
    "            j += 1\n",
    "            k += 1\n",
    "\n",
    "myList = [29,13,22,37,52,49,46,71,56]\n",
    "tri_fusion(myList)\n",
    "print(myList)\n"
   ]
  },
  {
   "cell_type": "code",
   "execution_count": 47,
   "id": "8757c554",
   "metadata": {},
   "outputs": [
    {
     "name": "stdout",
     "output_type": "stream",
     "text": [
      "[13, 22, 29, 37, 46, 49, 52, 56, 71]\n"
     ]
    }
   ],
   "source": [
    "#tri rapide\n",
    "def partition(array, start, end):\n",
    "    pivot = array[start]\n",
    "    low = start + 1\n",
    "    high = end\n",
    "    while True:\n",
    "        # Si la valeur actuelle que nous examinons est supérieure au pivot\n",
    "        # c'est au bon endroit (côté droit du pivot) et on peut bouger à gauche,\n",
    "        # à l'élément suivant.\n",
    "        # Nous devons également nous assurer que nous n'avons pas dépassé le pointeur bas, car cela\n",
    "        # indique que nous avons déjà déplacé tous les éléments vers leur bon côté du pivot\n",
    "\n",
    "\n",
    "        while low <= high and array[high] >= pivot:\n",
    "            high = high - 1\n",
    "\n",
    "       # Processus opposé à celui ci-dessus\n",
    "        while low <= high and array[low] <= pivot:\n",
    "            low = low + 1\n",
    "\n",
    "      # Soit nous avons trouvé une valeur pour high et low qui est hors service\n",
    "        # ou low est supérieur à high, auquel cas on sort de la boucle\n",
    "        if low <= high:\n",
    "            array[low], array[high] = array[high], array[low]\n",
    "           # La boucle continue\n",
    "        else:\n",
    "           # Nous sortons de la boucle\n",
    "            break\n",
    "\n",
    "    array[start], array[high] = array[high], array[start]\n",
    "\n",
    "    return high\n",
    "def tri_rapide(array,start,end):\n",
    "    if start >= end:\n",
    "        return\n",
    "    s = partition(array, start, end)\n",
    "    tri_rapide(array,start,s-1)\n",
    "    tri_rapide(array,s+1,end)\n",
    "    \n",
    "array=[29,13,22,37,52,49,46,71,56]\n",
    "tri_rapide(array,0,len(array)-1)\n",
    "print(array)"
   ]
  },
  {
   "cell_type": "code",
   "execution_count": null,
   "id": "dafeefc0",
   "metadata": {},
   "outputs": [],
   "source": []
  }
 ],
 "metadata": {
  "kernelspec": {
   "display_name": "Python 3 (ipykernel)",
   "language": "python",
   "name": "python3"
  },
  "language_info": {
   "codemirror_mode": {
    "name": "ipython",
    "version": 3
   },
   "file_extension": ".py",
   "mimetype": "text/x-python",
   "name": "python",
   "nbconvert_exporter": "python",
   "pygments_lexer": "ipython3",
   "version": "3.9.7"
  }
 },
 "nbformat": 4,
 "nbformat_minor": 5
}
